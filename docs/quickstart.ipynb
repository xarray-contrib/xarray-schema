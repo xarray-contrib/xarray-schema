{
 "cells": [
  {
   "cell_type": "markdown",
   "id": "4af89d3e",
   "metadata": {},
   "source": [
    "# Quick start\n",
    "\n",
    "Xarray-schema provides a simple class-based API for defining schemas and validating Xarray objects (and their components). \n",
    "\n",
    "All schema objects objects have `.validate()` and `to_json` methods."
   ]
  },
  {
   "cell_type": "code",
   "execution_count": 1,
   "id": "1d4033b4",
   "metadata": {},
   "outputs": [],
   "source": [
    "import numpy as np\n",
    "import xarray as xr\n",
    "\n",
    "from xarray_schema import DataArraySchema"
   ]
  },
  {
   "cell_type": "markdown",
   "id": "338a75ea-852b-45cb-bad9-ffe15f589b29",
   "metadata": {},
   "source": [
    "We'll start with a simple example that uses the `DataArraySchema` to validate the following `DataArray`:"
   ]
  },
  {
   "cell_type": "code",
   "execution_count": 2,
   "id": "d6ef6296",
   "metadata": {},
   "outputs": [],
   "source": [
    "da = xr.DataArray(np.ones((4, 10), dtype='i4'), dims=['x', 't'], name='foo')"
   ]
  },
  {
   "cell_type": "markdown",
   "id": "ef3705b1-8253-4741-ab38-1e034ec3a363",
   "metadata": {},
   "source": [
    "We can create a schema for this `DataArray` that includes the datatype, name, and shape. Note that for the shape schema, we've used `None` as a wildcard. "
   ]
  },
  {
   "cell_type": "code",
   "execution_count": 3,
   "id": "8bd2a195-3a52-42a7-83e2-55d986f0f11f",
   "metadata": {},
   "outputs": [],
   "source": [
    "schema = DataArraySchema(dtype=np.integer, name='foo', shape=(4, None))"
   ]
  },
  {
   "cell_type": "markdown",
   "id": "c5d2ec18-2d24-4e2a-8096-5ba2444517ac",
   "metadata": {},
   "source": [
    "With our schema created, we can now validate our `DataArray`:"
   ]
  },
  {
   "cell_type": "code",
   "execution_count": 4,
   "id": "4ccfdb2c-2b3a-4a73-956c-229d12efff7f",
   "metadata": {},
   "outputs": [],
   "source": [
    "schema.validate(da)"
   ]
  },
  {
   "cell_type": "markdown",
   "id": "47658fee-f0ff-4af8-af2b-1b4e53e6f3df",
   "metadata": {},
   "source": [
    "When we validate an object that doesn't conform to our schema, we get a `SchemaError`:"
   ]
  },
  {
   "cell_type": "code",
   "execution_count": 5,
   "id": "46b6600f-e5c5-47ae-996f-38f20679b2f5",
   "metadata": {},
   "outputs": [
    {
     "ename": "SchemaError",
     "evalue": "dtype float32 != <class 'numpy.integer'>",
     "output_type": "error",
     "traceback": [
      "\u001b[0;31m---------------------------------------------------------------------------\u001b[0m",
      "\u001b[0;31mSchemaError\u001b[0m                               Traceback (most recent call last)",
      "\u001b[0;32m<ipython-input-5-75422557b423>\u001b[0m in \u001b[0;36m<module>\u001b[0;34m\u001b[0m\n\u001b[1;32m      1\u001b[0m \u001b[0mda2\u001b[0m \u001b[0;34m=\u001b[0m \u001b[0mxr\u001b[0m\u001b[0;34m.\u001b[0m\u001b[0mDataArray\u001b[0m\u001b[0;34m(\u001b[0m\u001b[0mnp\u001b[0m\u001b[0;34m.\u001b[0m\u001b[0mones\u001b[0m\u001b[0;34m(\u001b[0m\u001b[0;34m(\u001b[0m\u001b[0;36m4\u001b[0m\u001b[0;34m,\u001b[0m \u001b[0;36m10\u001b[0m\u001b[0;34m)\u001b[0m\u001b[0;34m,\u001b[0m \u001b[0mdtype\u001b[0m\u001b[0;34m=\u001b[0m\u001b[0;34m'f4'\u001b[0m\u001b[0;34m)\u001b[0m\u001b[0;34m,\u001b[0m \u001b[0mdims\u001b[0m\u001b[0;34m=\u001b[0m\u001b[0;34m[\u001b[0m\u001b[0;34m'x'\u001b[0m\u001b[0;34m,\u001b[0m \u001b[0;34m't'\u001b[0m\u001b[0;34m]\u001b[0m\u001b[0;34m,\u001b[0m \u001b[0mname\u001b[0m\u001b[0;34m=\u001b[0m\u001b[0;34m'foo'\u001b[0m\u001b[0;34m)\u001b[0m\u001b[0;34m\u001b[0m\u001b[0;34m\u001b[0m\u001b[0m\n\u001b[0;32m----> 2\u001b[0;31m \u001b[0mschema\u001b[0m\u001b[0;34m.\u001b[0m\u001b[0mvalidate\u001b[0m\u001b[0;34m(\u001b[0m\u001b[0mda2\u001b[0m\u001b[0;34m)\u001b[0m\u001b[0;34m\u001b[0m\u001b[0;34m\u001b[0m\u001b[0m\n\u001b[0m",
      "\u001b[0;32m~/Dropbox (Personal)/src/xarray-schema/xarray_schema/dataarray.py\u001b[0m in \u001b[0;36mvalidate\u001b[0;34m(self, da)\u001b[0m\n\u001b[1;32m    196\u001b[0m \u001b[0;34m\u001b[0m\u001b[0m\n\u001b[1;32m    197\u001b[0m         \u001b[0;32mif\u001b[0m \u001b[0mself\u001b[0m\u001b[0;34m.\u001b[0m\u001b[0mdtype\u001b[0m \u001b[0;32mis\u001b[0m \u001b[0;32mnot\u001b[0m \u001b[0;32mNone\u001b[0m\u001b[0;34m:\u001b[0m\u001b[0;34m\u001b[0m\u001b[0;34m\u001b[0m\u001b[0m\n\u001b[0;32m--> 198\u001b[0;31m             \u001b[0mself\u001b[0m\u001b[0;34m.\u001b[0m\u001b[0mdtype\u001b[0m\u001b[0;34m.\u001b[0m\u001b[0mvalidate\u001b[0m\u001b[0;34m(\u001b[0m\u001b[0mda\u001b[0m\u001b[0;34m.\u001b[0m\u001b[0mdtype\u001b[0m\u001b[0;34m)\u001b[0m\u001b[0;34m\u001b[0m\u001b[0;34m\u001b[0m\u001b[0m\n\u001b[0m\u001b[1;32m    199\u001b[0m \u001b[0;34m\u001b[0m\u001b[0m\n\u001b[1;32m    200\u001b[0m         \u001b[0;32mif\u001b[0m \u001b[0mself\u001b[0m\u001b[0;34m.\u001b[0m\u001b[0mname\u001b[0m \u001b[0;32mis\u001b[0m \u001b[0;32mnot\u001b[0m \u001b[0;32mNone\u001b[0m\u001b[0;34m:\u001b[0m\u001b[0;34m\u001b[0m\u001b[0;34m\u001b[0m\u001b[0m\n",
      "\u001b[0;32m~/Dropbox (Personal)/src/xarray-schema/xarray_schema/components.py\u001b[0m in \u001b[0;36mvalidate\u001b[0;34m(self, dtype)\u001b[0m\n\u001b[1;32m     38\u001b[0m         '''\n\u001b[1;32m     39\u001b[0m         \u001b[0;32mif\u001b[0m \u001b[0;32mnot\u001b[0m \u001b[0mnp\u001b[0m\u001b[0;34m.\u001b[0m\u001b[0missubdtype\u001b[0m\u001b[0;34m(\u001b[0m\u001b[0mdtype\u001b[0m\u001b[0;34m,\u001b[0m \u001b[0mself\u001b[0m\u001b[0;34m.\u001b[0m\u001b[0mdtype\u001b[0m\u001b[0;34m)\u001b[0m\u001b[0;34m:\u001b[0m\u001b[0;34m\u001b[0m\u001b[0;34m\u001b[0m\u001b[0m\n\u001b[0;32m---> 40\u001b[0;31m             \u001b[0;32mraise\u001b[0m \u001b[0mSchemaError\u001b[0m\u001b[0;34m(\u001b[0m\u001b[0;34mf'dtype {dtype} != {self.dtype}'\u001b[0m\u001b[0;34m)\u001b[0m\u001b[0;34m\u001b[0m\u001b[0;34m\u001b[0m\u001b[0m\n\u001b[0m\u001b[1;32m     41\u001b[0m \u001b[0;34m\u001b[0m\u001b[0m\n\u001b[1;32m     42\u001b[0m     \u001b[0;34m@\u001b[0m\u001b[0mproperty\u001b[0m\u001b[0;34m\u001b[0m\u001b[0;34m\u001b[0m\u001b[0m\n",
      "\u001b[0;31mSchemaError\u001b[0m: dtype float32 != <class 'numpy.integer'>"
     ]
    }
   ],
   "source": [
    "da2 = xr.DataArray(np.ones((4, 10), dtype='f4'), dims=['x', 't'], name='foo')\n",
    "schema.validate(da2)"
   ]
  },
  {
   "cell_type": "markdown",
   "id": "73f6805f-6437-48d8-93ca-4853f561f77f",
   "metadata": {},
   "source": [
    "Schemas can also be exported to JSON:"
   ]
  },
  {
   "cell_type": "code",
   "execution_count": 6,
   "id": "64ded3cf-ac73-4082-be7a-b64861b81ecb",
   "metadata": {},
   "outputs": [
    {
     "data": {
      "text/plain": [
       "{'dtype': 'integer', 'shape': [4, None], 'name': 'foo'}"
      ]
     },
     "execution_count": 6,
     "metadata": {},
     "output_type": "execute_result"
    }
   ],
   "source": [
    "schema.json"
   ]
  },
  {
   "cell_type": "markdown",
   "id": "b288ef4d-cd9e-4412-b5cc-f877710a80f4",
   "metadata": {},
   "source": [
    "## Components\n",
    "\n",
    "Each component of the Xarray data model is implemented as a stand alone class:"
   ]
  },
  {
   "cell_type": "code",
   "execution_count": 7,
   "id": "afb51650-3966-439f-9569-d5f2978513d8",
   "metadata": {},
   "outputs": [
    {
     "name": "stdout",
     "output_type": "stream",
     "text": [
      "{\"x\": null, \"y\": -1}\n"
     ]
    }
   ],
   "source": [
    "from xarray_schema.components import (\n",
    "    DTypeSchema,\n",
    "    DimsSchema,\n",
    "    ShapeSchema,\n",
    "    NameSchema,\n",
    "    ChunksSchema,\n",
    "    ArrayTypeSchema,\n",
    "    AttrSchema,\n",
    "    AttrsSchema\n",
    ")\n",
    "\n",
    "# example constructions\n",
    "dtype_schema = DTypeSchema('i4')\n",
    "dims_schema = DimsSchema(('x', 'y', None))  # None is used as a wildcard\n",
    "shape_schema = ShapeSchema((5, 10, None))  # None is used as a wildcard\n",
    "name_schema = NameSchema('foo')\n",
    "chunk_schema = ChunksSchema({'x': None, 'y': -1})  # None is used as a wildcard, -1 is used as\n",
    "ArrayTypeSchema = ArrayTypeSchema(np.ndarray)\n",
    "\n",
    "# Example usage\n",
    "dtype_schema.validate(da.dtype)\n",
    "\n",
    "# Each object schema can be exported to JSON format\n",
    "chunk_schema = chunk_schema.to_json()\n",
    "print(chunk_schema)"
   ]
  },
  {
   "cell_type": "code",
   "execution_count": null,
   "id": "b812ce5e-ed2c-4da3-b597-d49b438b975a",
   "metadata": {},
   "outputs": [],
   "source": []
  }
 ],
 "metadata": {
  "kernelspec": {
   "display_name": "Python [conda env:carbonplan] *",
   "language": "python",
   "name": "conda-env-carbonplan-py"
  },
  "language_info": {
   "codemirror_mode": {
    "name": "ipython",
    "version": 3
   },
   "file_extension": ".py",
   "mimetype": "text/x-python",
   "name": "python",
   "nbconvert_exporter": "python",
   "pygments_lexer": "ipython3",
   "version": "3.9.4"
  }
 },
 "nbformat": 4,
 "nbformat_minor": 5
}
